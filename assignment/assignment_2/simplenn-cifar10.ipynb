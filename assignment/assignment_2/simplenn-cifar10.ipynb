{
  "cells": [
    {
      "cell_type": "markdown",
      "metadata": {
        "id": "YIKoTQHeRMVw"
      },
      "source": [
        "# Training SimpleNN on CIFAR-10\n",
        "In this project, you will use the SimpleNN model to perform image classification on CIFAR-10. CIFAR-10 orginally contains 60K images from 10 categories. We split it into 45K/5K/10K images to serve as train/valiation/test set. We only release the ground-truth labels of training/validation dataset to you."
      ]
    },
    {
      "cell_type": "markdown",
      "metadata": {
        "id": "cSn5JKOrRMVz"
      },
      "source": [
        "## Step 0: Set up the SimpleNN model\n",
        "As you have practiced to implement simple neural networks in Homework 1, we just prepare the implementation for you."
      ]
    },
    {
      "cell_type": "code",
      "execution_count": 1,
      "metadata": {
        "id": "T7jC15E_RMVz",
        "colab": {
          "base_uri": "https://localhost:8080/"
        },
        "outputId": "6b447e9b-fb60-45f5-eb3f-90bebd5b6fc7"
      },
      "outputs": [
        {
          "output_type": "stream",
          "name": "stdout",
          "text": [
            "cuda\n"
          ]
        }
      ],
      "source": [
        "# import necessary dependencies\n",
        "import argparse\n",
        "import os, sys\n",
        "import time\n",
        "import datetime\n",
        "import numpy as np\n",
        "from tqdm import tqdm_notebook as tqdm\n",
        "\n",
        "import torch\n",
        "import torch.nn as nn\n",
        "import torch.nn.functional as F\n",
        "from torch.nn.modules.utils import _single, _pair, _triple\n",
        "\n",
        "device = torch.device(\"cuda\" if torch.cuda.is_available() else \"cpu\")\n",
        "print(device)"
      ]
    },
    {
      "cell_type": "code",
      "execution_count": 29,
      "metadata": {
        "id": "G5ZPYpbSRMV0"
      },
      "outputs": [],
      "source": [
        "# define the SimpleNN mode;\n",
        "class SimpleNN(nn.Module):\n",
        "    def __init__(self):\n",
        "        super(SimpleNN, self).__init__()\n",
        "        self.conv1 = nn.Conv2d(3, 8, 5)\n",
        "        self.conv2 = nn.Conv2d(8, 16, 3)\n",
        "        self.fc1   = nn.Linear(16*6*6, 120)\n",
        "        self.fc2   = nn.Linear(120, 84)\n",
        "        self.fc3   = nn.Linear(84, 10)\n",
        "        # self.conv1 = CONV(3, 8, 5)\n",
        "        # self.conv2 = CONV(8, 16, 3)\n",
        "        # self.fc1   = FC(16*6*6, 120)\n",
        "        # self.fc2   = FC(120, 84)\n",
        "        # self.fc3   = FC(84, 10)\n",
        "\n",
        "\n",
        "    def forward(self, x):\n",
        "        out = F.relu(self.conv1(x))\n",
        "        out = F.max_pool2d(out, 2)\n",
        "        out = F.relu(self.conv2(out))\n",
        "        out = F.max_pool2d(out, 2)\n",
        "        out = out.view(out.size(0), -1)\n",
        "        out = F.relu(self.fc1(out))\n",
        "        out = F.relu(self.fc2(out))\n",
        "        out = F.relu(self.fc3(out))\n",
        "        return out"
      ]
    },
    {
      "cell_type": "code",
      "execution_count": null,
      "metadata": {
        "id": "rJJVz8eXRMV1"
      },
      "outputs": [],
      "source": [
        "class CONV(nn.Conv2d):\n",
        "    def __init__(self, in_channels, out_channels, kernel_size, stride=1,\n",
        "                 padding=0, dilation=1, groups=1,\n",
        "                 bias=False, padding_mode='zeros'):\n",
        "        self.input = None\n",
        "        self.output = None\n",
        "        kernel_size = _pair(kernel_size)\n",
        "        stride = _pair(stride)\n",
        "        padding = _pair(padding)\n",
        "        dilation = _pair(dilation)\n",
        "        super(CONV, self).__init__(\n",
        "            in_channels, out_channels, kernel_size, stride, padding, dilation, \n",
        "            groups, bias, padding_mode)\n",
        "    \n",
        "    def forward(self, input):\n",
        "        self.input = input\n",
        "        if '1.4' in torch.__version__:\n",
        "            self.output = self.conv2d_forward(input, self.weight, self.bias) #1.4ｓ\n",
        "        else:\n",
        "            self.output = self._conv_forward(input, self.weight, self.bias) #1.5\n",
        "        return self.output\n",
        "    \n",
        "class FC(nn.Linear):\n",
        "    def __init__(self, in_features, out_features, bias=True):\n",
        "        self.input = None\n",
        "        self.output = None\n",
        "        super(FC, self).__init__(in_features, out_features, bias)\n",
        "    \n",
        "    def forward(self, input):\n",
        "        self.input = input\n",
        "        self.output = F.linear(input, self.weight, self.bias)\n",
        "        return self.output"
      ]
    },
    {
      "cell_type": "markdown",
      "metadata": {
        "id": "3fO1TSrnRMV2"
      },
      "source": [
        "### Question (a)\n",
        "Here is a sanity check to verify the implementation of SimpleNN. \n",
        "You need to:\n",
        "1. Write down your code.\n",
        "2. **In the PDF report**, give a brief description on how the code helps you know that SimpleNN is implemented correctly."
      ]
    },
    {
      "cell_type": "code",
      "execution_count": null,
      "metadata": {
        "id": "hVJggrMbRMV2",
        "outputId": "259d21ad-17a3-4d5c-8bd9-5b5d4821e70c",
        "colab": {
          "base_uri": "https://localhost:8080/"
        }
      },
      "outputs": [
        {
          "output_type": "stream",
          "name": "stdout",
          "text": [
            "Run on CPU...\n",
            "torch.Size([5, 10])\n",
            "conv1      600       \n",
            "conv2      1152      \n",
            "fc1        69240     \n",
            "fc2        10164     \n",
            "fc3        850       \n"
          ]
        }
      ],
      "source": [
        "#############################################\n",
        "# your code here\n",
        "# sanity check for the correctness of SimpleNN\n",
        "# the cifar 10 image has the size of 32x32\n",
        "size = 32\n",
        "dummy = torch.randn(5, 3, size, size)\n",
        "# dummy = np.zeros((size, size))\n",
        "# GPU check                \n",
        "device = 'cuda' if torch.cuda.is_available() else 'cpu'\n",
        "if device =='cuda':\n",
        "    print(\"Run on GPU...\")\n",
        "else:\n",
        "    print(\"Run on CPU...\")\n",
        "    \n",
        "net = SimpleNN()\n",
        "net = net.to(device)\n",
        "out = net(dummy)\n",
        "print(out.shape)\n",
        "\n",
        "for name, module in net.named_modules():\n",
        "    if isinstance(module, CONV) or isinstance(module, FC):\n",
        "        input = module.input.detach().numpy()    \n",
        "        output = module.output.detach().numpy()     \n",
        "        weight = module.weight.detach().numpy()     \n",
        "        if isinstance(module, CONV):\n",
        "            num_Param = weight.size\n",
        "        else:\n",
        "            num_Param = module.bias.detach().numpy().size + output.shape[1] * input.shape[1]\n",
        "        print(f'{name:10} {str(num_Param):10}')\n",
        "\n",
        "\n",
        "#############################################"
      ]
    },
    {
      "cell_type": "markdown",
      "metadata": {
        "id": "Khy2H7N8RMV4"
      },
      "source": [
        "## Step 1: Set up preprocessing functions\n",
        "Preprocessing is very important as discussed in the lecture.\n",
        "You will need to write preprocessing functions with the help of *torchvision.transforms* in this step.\n",
        "You can find helpful tutorial/API at [here](https://pytorch.org/vision/stable/transforms.html)."
      ]
    },
    {
      "cell_type": "markdown",
      "metadata": {
        "id": "f_qKD4bTRMV4"
      },
      "source": [
        "### Question (b)\n",
        "For the question, you need to:\n",
        "1. Complete the preprocessing code below.\n",
        "2. **In the PDF report**, briefly describe what preprocessing operations you used and what are the purposes of them.\n",
        "\n",
        "Hint: \n",
        "1. Only two operations are necessary to complete the basic preprocessing here.\n",
        "2. The raw input read from the dataset will be PIL images.\n",
        "3. Data augmentation operations are not mendatory, but feel free to incorporate them if you want.\n",
        "4. Reference value for mean/std of CIFAR-10 images (assuming the pixel values are within [0,1]): mean (RGB-format): (0.4914, 0.4822, 0.4465), std (RGB-format): (0.2023, 0.1994, 0.2010)"
      ]
    },
    {
      "cell_type": "code",
      "execution_count": 19,
      "metadata": {
        "id": "JJZ8i5qWRMV5"
      },
      "outputs": [],
      "source": [
        "# useful libraries\n",
        "import torchvision\n",
        "import torchvision.transforms as transforms\n",
        "\n",
        "#############################################\n",
        "# your code here\n",
        "# specify preprocessing function\n",
        "# transform_train = torch.nn.Sequential(\n",
        "#     transforms.CenterCrop(10),\n",
        "#     transforms.Normalize((0.4914, 0.4822, 0.4465), (0.2023, 0.1994, 0.2010)),\n",
        "# )\n",
        "\n",
        "transform_train = transforms.Compose([transforms.RandomHorizontalFlip(0.5),\n",
        "                                      transforms.RandomRotation(0.5), \n",
        "                                      transforms.ToTensor(),\n",
        "                                      transforms.Normalize((0.4914, 0.4822, 0.4465), (0.2023, 0.1994, 0.2010))])\n",
        "\n",
        "# transform_val = torch.nn.Sequential(\n",
        "#     transforms.CenterCrop(10),\n",
        "#     transforms.Normalize((0.4914, 0.4822, 0.4465), (0.2023, 0.1994, 0.2010)),\n",
        "# )\n",
        "\n",
        "transform_val = transforms.Compose([transforms.RandomHorizontalFlip(0.5),\n",
        "                                      transforms.RandomRotation(0.5), \n",
        "                                      transforms.ToTensor(),\n",
        "                                      transforms.Normalize((0.4914, 0.4822, 0.4465), (0.2023, 0.1994, 0.2010))])\n",
        "#############################################"
      ]
    },
    {
      "cell_type": "markdown",
      "metadata": {
        "id": "Gzv29sQzRMV5"
      },
      "source": [
        "## Step 2: Set up dataset and dataloader\n",
        "\n",
        "### Question (c)\n",
        "Set up the train/val datasets and dataloders that are to be used during the training. Check out the [official API](https://pytorch.org/docs/stable/data.html) for more information about **torch.utils.data.DataLoader**.\n",
        "\n",
        "Here, you need to:\n",
        "1. Complete the code below."
      ]
    },
    {
      "cell_type": "code",
      "execution_count": 28,
      "metadata": {
        "id": "456a_CTcRMV6",
        "outputId": "72b65701-ace9-4adf-ea9f-877e38618102",
        "colab": {
          "base_uri": "https://localhost:8080/",
          "height": 188,
          "referenced_widgets": [
            "eb22d7abf3984ced8457e0ddd0240cf6",
            "d7c94d6708b2471987c5b2490f286b5b",
            "c35c39e78ed241fbae007bcfb0be94ca",
            "1c67bd43b3f344d18fcde5e29977b08e",
            "379cfd13b4ba46edbbc133a05874cf7a",
            "4e3a9e45e24a4194bc9f8e2e17ff7902",
            "26993aaffe58455480d3db4161833f90",
            "3b844589c0ac4ee9888541861b160d49",
            "193f4d0f56f445519a54486ee4a0af6c",
            "0de900518f434635a0dbb6c888b18140",
            "2fd832956f1b4580b99043c7e1b70df2"
          ]
        }
      },
      "outputs": [
        {
          "output_type": "stream",
          "name": "stdout",
          "text": [
            "Downloading https://www.dropbox.com/s/s8orza214q45b23/cifar10_trainval_F22.zip?dl=1 to ./data/cifar10_trainval_F22.zip\n"
          ]
        },
        {
          "output_type": "display_data",
          "data": {
            "text/plain": [
              "0it [00:00, ?it/s]"
            ],
            "application/vnd.jupyter.widget-view+json": {
              "version_major": 2,
              "version_minor": 0,
              "model_id": "eb22d7abf3984ced8457e0ddd0240cf6"
            }
          },
          "metadata": {}
        },
        {
          "output_type": "stream",
          "name": "stdout",
          "text": [
            "Extracting ./data/cifar10_trainval_F22.zip to ./data\n",
            "Files already downloaded and verified\n",
            "Using downloaded and verified file: ./data/cifar10_trainval_F22.zip\n",
            "Extracting ./data/cifar10_trainval_F22.zip to ./data\n",
            "Files already downloaded and verified\n",
            "352\n"
          ]
        }
      ],
      "source": [
        "# do NOT change these\n",
        "from tools.dataset import CIFAR10\n",
        "from torch.utils.data import DataLoader\n",
        "\n",
        "# a few arguments, do NOT change these\n",
        "DATA_ROOT = \"./data\"\n",
        "TRAIN_BATCH_SIZE = 128\n",
        "VAL_BATCH_SIZE = 100\n",
        "\n",
        "#############################################\n",
        "# your code here\n",
        "# construct dataset\n",
        "train_set = CIFAR10(\n",
        "    root=DATA_ROOT, \n",
        "    mode='train', \n",
        "    download=True,\n",
        "    transform=transform_train    # your code\n",
        ")\n",
        "val_set = CIFAR10(\n",
        "    root=DATA_ROOT, \n",
        "    mode='val', \n",
        "    download=True,\n",
        "    transform=transform_val    # your code\n",
        ")\n",
        "\n",
        "# construct dataloader\n",
        "train_loader = DataLoader(\n",
        "    train_set, \n",
        "    batch_size=TRAIN_BATCH_SIZE,  # your code\n",
        "    shuffle=True,     # your code\n",
        "    num_workers=4\n",
        ")\n",
        "val_loader = DataLoader(\n",
        "    val_set, \n",
        "    batch_size=VAL_BATCH_SIZE,  # your code\n",
        "    shuffle=False,     # your code\n",
        "    num_workers=4\n",
        ")\n",
        "print(len(train_loader))\n",
        "#############################################"
      ]
    },
    {
      "cell_type": "code",
      "source": [
        "!rm -r data"
      ],
      "metadata": {
        "id": "viL6hWTqMuVY"
      },
      "execution_count": 27,
      "outputs": []
    },
    {
      "cell_type": "markdown",
      "source": [],
      "metadata": {
        "id": "UC2yGDHBSq_D"
      }
    },
    {
      "cell_type": "markdown",
      "metadata": {
        "id": "dncXNxPARMV6"
      },
      "source": [
        "## Step 3: Instantiate your SimpleNN model and deploy it to GPU devices.\n",
        "### Question (d)\n",
        "You may want to deploy your model to GPU device for efficient training. Please assign your model to GPU if possible. If you are training on a machine without GPUs, please deploy your model to CPUs.\n",
        "\n",
        "Here, you need to:\n",
        "1. Complete the code below.\n",
        "2. **In the PDF report**, briefly describe how you verify that your model is indeed deployed on GPU. (Hint: check $\\texttt{nvidia-smi}$.)"
      ]
    },
    {
      "cell_type": "code",
      "execution_count": 14,
      "metadata": {
        "id": "M_zUt9UgRMV6",
        "colab": {
          "base_uri": "https://localhost:8080/"
        },
        "outputId": "66a4a4e0-c460-4fa0-a354-464c1cb7a153"
      },
      "outputs": [
        {
          "output_type": "stream",
          "name": "stdout",
          "text": [
            "Run on GPU...\n"
          ]
        }
      ],
      "source": [
        "# specify the device for computation\n",
        "#############################################\n",
        "# your code here           \n",
        "device = 'cuda' if torch.cuda.is_available() else 'cpu'\n",
        "if device =='cuda':\n",
        "    print(\"Run on GPU...\")\n",
        "else:\n",
        "    print(\"Run on CPU...\")\n",
        "    \n",
        "#############################################"
      ]
    },
    {
      "cell_type": "code",
      "source": [
        "\n",
        "model = SimpleNN()\n",
        "model = model.to(device)\n"
      ],
      "metadata": {
        "id": "_e1BNg9I2DxJ"
      },
      "execution_count": 30,
      "outputs": []
    },
    {
      "cell_type": "code",
      "source": [
        "!nvidia-smi"
      ],
      "metadata": {
        "colab": {
          "base_uri": "https://localhost:8080/"
        },
        "id": "855jcUgBVabD",
        "outputId": "07fdb55e-df92-4ea7-b958-e9d68f21bade"
      },
      "execution_count": 24,
      "outputs": [
        {
          "output_type": "stream",
          "name": "stdout",
          "text": [
            "Tue Sep 27 18:30:03 2022       \n",
            "+-----------------------------------------------------------------------------+\n",
            "| NVIDIA-SMI 460.32.03    Driver Version: 460.32.03    CUDA Version: 11.2     |\n",
            "|-------------------------------+----------------------+----------------------+\n",
            "| GPU  Name        Persistence-M| Bus-Id        Disp.A | Volatile Uncorr. ECC |\n",
            "| Fan  Temp  Perf  Pwr:Usage/Cap|         Memory-Usage | GPU-Util  Compute M. |\n",
            "|                               |                      |               MIG M. |\n",
            "|===============================+======================+======================|\n",
            "|   0  Tesla T4            Off  | 00000000:00:04.0 Off |                    0 |\n",
            "| N/A   58C    P0    27W /  70W |    612MiB / 15109MiB |      0%      Default |\n",
            "|                               |                      |                  N/A |\n",
            "+-------------------------------+----------------------+----------------------+\n",
            "                                                                               \n",
            "+-----------------------------------------------------------------------------+\n",
            "| Processes:                                                                  |\n",
            "|  GPU   GI   CI        PID   Type   Process name                  GPU Memory |\n",
            "|        ID   ID                                                   Usage      |\n",
            "|=============================================================================|\n",
            "+-----------------------------------------------------------------------------+\n"
          ]
        }
      ]
    },
    {
      "cell_type": "markdown",
      "metadata": {
        "id": "jqxim7u_RMV7"
      },
      "source": [
        "## Step 4: Set up the loss function and optimizer\n",
        "Loss function/objective function is used to provide \"feedback\" for the neural networks. Typically, we use multi-class cross-entropy as the loss function for classification models. As for the optimizer, we will use SGD with momentum. "
      ]
    },
    {
      "cell_type": "markdown",
      "metadata": {
        "id": "LvR-ecGdRMV7"
      },
      "source": [
        "### Question (e)\n",
        "Here, you need to:\n",
        "1. Set up the cross-entropy loss as the criterion. (Hint: there are implemented functions in **torch.nn**)\n",
        "2. Specify a SGD optimizer with momentum. (Hint: there are implemented functions in **torch.optim**)"
      ]
    },
    {
      "cell_type": "code",
      "execution_count": 31,
      "metadata": {
        "id": "aydb0JKnRMV7"
      },
      "outputs": [],
      "source": [
        "import torch.nn as nn\n",
        "import torch.optim as optim\n",
        "\n",
        "# hyperparameters, do NOT change right now\n",
        "# initial learning rate\n",
        "INITIAL_LR = 0.01\n",
        "\n",
        "# momentum for optimizer\n",
        "MOMENTUM = 0.9\n",
        "\n",
        "# L2 regularization strength\n",
        "REG = 1e-4\n",
        "\n",
        "#############################################\n",
        "# your code here\n",
        "# create loss function\n",
        "criterion = nn.CrossEntropyLoss().to(device)\n",
        "# Add optimizer\n",
        "optimizer = optim.SGD(model.parameters(), lr=INITIAL_LR, momentum=MOMENTUM, weight_decay=REG)\n",
        "#############################################"
      ]
    },
    {
      "cell_type": "markdown",
      "metadata": {
        "id": "BwcinOaqRMV8"
      },
      "source": [
        "## Step 5: Start the training process.\n",
        "\n",
        "### Question (f)/(g)\n",
        "Congratulations! You have completed all of the previous steps and it is time to train our neural network.\n",
        "\n",
        "Here you need to:\n",
        "1. Complete the training codes.\n",
        "2. Actually perform the training.\n",
        "\n",
        "Hint: Training a neural network usually repeats the following 4 steps: \n",
        "\n",
        "**i) Get a batch of data from the dataloader and copy it to your device (GPU).**\n",
        "\n",
        "**ii) Do a forward pass to get the outputs from the neural network and compute the loss. Be careful about your inputs to the loss function. Are the inputs required to be the logits or softmax probabilities?)**\n",
        "\n",
        "**iii) Do a backward pass (back-propagation) to compute gradients of all weights with respect to the loss.**\n",
        "\n",
        "**iiii) Update the model weights with the optimizer.**\n",
        "\n",
        "You will also need to compute the accuracy of training/validation samples to track your model's performance over each epoch (the accuracy should be increasing as you train for more and more epochs).\n"
      ]
    },
    {
      "cell_type": "code",
      "execution_count": 33,
      "metadata": {
        "id": "snXqgRDHRMV8",
        "colab": {
          "base_uri": "https://localhost:8080/"
        },
        "outputId": "4b303f1a-72e8-4acd-8284-f9dbe254dbc5"
      },
      "outputs": [
        {
          "output_type": "stream",
          "name": "stdout",
          "text": [
            "==> Training starts!\n",
            "==================================================\n",
            "Epoch 0:\n"
          ]
        },
        {
          "output_type": "stream",
          "name": "stderr",
          "text": [
            "/usr/local/lib/python3.7/dist-packages/torch/utils/data/dataloader.py:566: UserWarning: This DataLoader will create 4 worker processes in total. Our suggested max number of worker in current system is 2, which is smaller than what this DataLoader is going to create. Please be aware that excessive worker creation might get DataLoader running slow or even freeze, lower the worker number to avoid potential slowness/freeze if necessary.\n",
            "  cpuset_checked))\n"
          ]
        },
        {
          "output_type": "stream",
          "name": "stdout",
          "text": [
            "initial loss:  tensor(1.9319, device='cuda:0', grad_fn=<NllLossBackward0>)\n",
            "total:  45000\n",
            "correct:  17235\n",
            "Training loss: 1.7759, Training accuracy: 0.3830\n",
            "Validation loss: 1.6337, Validation accuracy: 0.4316\n",
            "Saving ...\n",
            "\n",
            "Epoch 1:\n",
            "total:  45000\n",
            "correct:  21753\n",
            "Training loss: 1.4625, Training accuracy: 0.4834\n",
            "Validation loss: 1.3431, Validation accuracy: 0.5276\n",
            "Saving ...\n",
            "\n",
            "Epoch 2:\n",
            "total:  45000\n",
            "correct:  24670\n",
            "Training loss: 1.2685, Training accuracy: 0.5482\n",
            "Validation loss: 1.2364, Validation accuracy: 0.5660\n",
            "Saving ...\n",
            "\n",
            "Epoch 3:\n",
            "total:  45000\n",
            "correct:  26465\n",
            "Training loss: 1.1624, Training accuracy: 0.5881\n",
            "Validation loss: 1.1753, Validation accuracy: 0.5856\n",
            "Saving ...\n",
            "\n",
            "Epoch 4:\n",
            "total:  45000\n",
            "correct:  27635\n",
            "Training loss: 1.0972, Training accuracy: 0.6141\n",
            "Validation loss: 1.1508, Validation accuracy: 0.5968\n",
            "Saving ...\n",
            "\n",
            "Epoch 5:\n",
            "total:  45000\n",
            "correct:  28570\n",
            "Training loss: 1.0360, Training accuracy: 0.6349\n",
            "Validation loss: 1.1009, Validation accuracy: 0.6204\n",
            "Saving ...\n",
            "\n",
            "Epoch 6:\n",
            "total:  45000\n",
            "correct:  29463\n",
            "Training loss: 0.9900, Training accuracy: 0.6547\n",
            "Validation loss: 1.0448, Validation accuracy: 0.6386\n",
            "Saving ...\n",
            "\n",
            "Epoch 7:\n",
            "total:  45000\n",
            "correct:  30125\n",
            "Training loss: 0.9454, Training accuracy: 0.6694\n",
            "Validation loss: 1.0536, Validation accuracy: 0.6310\n",
            "\n",
            "Epoch 8:\n",
            "total:  45000\n",
            "correct:  30720\n",
            "Training loss: 0.9087, Training accuracy: 0.6827\n",
            "Validation loss: 1.0065, Validation accuracy: 0.6474\n",
            "Saving ...\n",
            "\n",
            "Epoch 9:\n",
            "total:  45000\n",
            "correct:  31253\n",
            "Training loss: 0.8748, Training accuracy: 0.6945\n",
            "Validation loss: 0.9923, Validation accuracy: 0.6598\n",
            "Saving ...\n",
            "\n",
            "Current learning rate has decayed to 0.001000\n",
            "Epoch 10:\n",
            "total:  45000\n",
            "correct:  33298\n",
            "Training loss: 0.7495, Training accuracy: 0.7400\n",
            "Validation loss: 0.9260, Validation accuracy: 0.6782\n",
            "Saving ...\n",
            "\n",
            "Epoch 11:\n",
            "total:  45000\n",
            "correct:  33584\n",
            "Training loss: 0.7242, Training accuracy: 0.7463\n",
            "Validation loss: 0.9146, Validation accuracy: 0.6814\n",
            "Saving ...\n",
            "\n",
            "Epoch 12:\n",
            "total:  45000\n",
            "correct:  33819\n",
            "Training loss: 0.7092, Training accuracy: 0.7515\n",
            "Validation loss: 0.9354, Validation accuracy: 0.6806\n",
            "\n",
            "Epoch 13:\n",
            "total:  45000\n",
            "correct:  33913\n",
            "Training loss: 0.7034, Training accuracy: 0.7536\n",
            "Validation loss: 0.9155, Validation accuracy: 0.6822\n",
            "Saving ...\n",
            "\n",
            "Epoch 14:\n",
            "total:  45000\n",
            "correct:  34115\n",
            "Training loss: 0.6930, Training accuracy: 0.7581\n",
            "Validation loss: 0.9232, Validation accuracy: 0.6890\n",
            "Saving ...\n",
            "\n",
            "Epoch 15:\n",
            "total:  45000\n",
            "correct:  34285\n",
            "Training loss: 0.6872, Training accuracy: 0.7619\n",
            "Validation loss: 0.9200, Validation accuracy: 0.6852\n",
            "\n",
            "Epoch 16:\n",
            "total:  45000\n",
            "correct:  34297\n",
            "Training loss: 0.6778, Training accuracy: 0.7622\n",
            "Validation loss: 0.9143, Validation accuracy: 0.6886\n",
            "\n",
            "Epoch 17:\n",
            "total:  45000\n",
            "correct:  34380\n",
            "Training loss: 0.6725, Training accuracy: 0.7640\n",
            "Validation loss: 0.9168, Validation accuracy: 0.6862\n",
            "\n",
            "Epoch 18:\n",
            "total:  45000\n",
            "correct:  34541\n",
            "Training loss: 0.6665, Training accuracy: 0.7676\n",
            "Validation loss: 0.9119, Validation accuracy: 0.6912\n",
            "Saving ...\n",
            "\n",
            "Epoch 19:\n",
            "total:  45000\n",
            "correct:  34635\n",
            "Training loss: 0.6602, Training accuracy: 0.7697\n",
            "Validation loss: 0.9125, Validation accuracy: 0.6908\n",
            "\n",
            "Current learning rate has decayed to 0.000100\n",
            "Epoch 20:\n",
            "total:  45000\n",
            "correct:  34845\n",
            "Training loss: 0.6439, Training accuracy: 0.7743\n",
            "Validation loss: 0.9147, Validation accuracy: 0.6882\n",
            "\n",
            "Epoch 21:\n",
            "total:  45000\n",
            "correct:  34961\n",
            "Training loss: 0.6397, Training accuracy: 0.7769\n",
            "Validation loss: 0.8991, Validation accuracy: 0.6958\n",
            "Saving ...\n",
            "\n",
            "Epoch 22:\n",
            "total:  45000\n",
            "correct:  34958\n",
            "Training loss: 0.6405, Training accuracy: 0.7768\n",
            "Validation loss: 0.9055, Validation accuracy: 0.6928\n",
            "\n",
            "Epoch 23:\n",
            "total:  45000\n",
            "correct:  35008\n",
            "Training loss: 0.6390, Training accuracy: 0.7780\n",
            "Validation loss: 0.9131, Validation accuracy: 0.6930\n",
            "\n",
            "Epoch 24:\n",
            "total:  45000\n",
            "correct:  35084\n",
            "Training loss: 0.6336, Training accuracy: 0.7796\n",
            "Validation loss: 0.9099, Validation accuracy: 0.6936\n",
            "\n",
            "Epoch 25:\n",
            "total:  45000\n",
            "correct:  35005\n",
            "Training loss: 0.6375, Training accuracy: 0.7779\n",
            "Validation loss: 0.9078, Validation accuracy: 0.6906\n",
            "\n",
            "Epoch 26:\n",
            "total:  45000\n",
            "correct:  35023\n",
            "Training loss: 0.6375, Training accuracy: 0.7783\n",
            "Validation loss: 0.9012, Validation accuracy: 0.6974\n",
            "Saving ...\n",
            "\n",
            "Epoch 27:\n",
            "total:  45000\n",
            "correct:  35141\n",
            "Training loss: 0.6331, Training accuracy: 0.7809\n",
            "Validation loss: 0.9027, Validation accuracy: 0.6994\n",
            "Saving ...\n",
            "\n",
            "Epoch 28:\n",
            "total:  45000\n",
            "correct:  35035\n",
            "Training loss: 0.6346, Training accuracy: 0.7786\n",
            "Validation loss: 0.9050, Validation accuracy: 0.6908\n",
            "\n",
            "Epoch 29:\n",
            "total:  45000\n",
            "correct:  35057\n",
            "Training loss: 0.6328, Training accuracy: 0.7790\n",
            "Validation loss: 0.9205, Validation accuracy: 0.6922\n",
            "\n",
            "==================================================\n",
            "==> Optimization finished! Best validation accuracy: 0.6994\n"
          ]
        }
      ],
      "source": [
        "# some hyperparameters\n",
        "# total number of training epochs\n",
        "EPOCHS = 30\n",
        "\n",
        "# the folder where the trained model is saved\n",
        "CHECKPOINT_FOLDER = \"./saved_model\"\n",
        "\n",
        "# start the training/validation process\n",
        "# the process should take about 5 minutes on a GTX 1070-Ti\n",
        "# if the code is written efficiently.\n",
        "best_val_acc = 0\n",
        "current_learning_rate = INITIAL_LR\n",
        "DECAY_EPOCHS = 10\n",
        "DECAY = 0.1\n",
        "a = 0\n",
        "\n",
        "print(\"==> Training starts!\")\n",
        "print(\"=\"*50)\n",
        "for i in range(0, EPOCHS):\n",
        "    # handle the learning rate scheduler.\n",
        "    if i % DECAY_EPOCHS == 0 and i != 0:\n",
        "        current_learning_rate = current_learning_rate * DECAY\n",
        "        for param_group in optimizer.param_groups:\n",
        "            param_group['lr'] = current_learning_rate\n",
        "        print(\"Current learning rate has decayed to %f\" %current_learning_rate)\n",
        "    \n",
        "    #######################\n",
        "    # your code here\n",
        "    # switch to train mode\n",
        "    model.train()\n",
        "    \n",
        "    #######################\n",
        "    \n",
        "    print(\"Epoch %d:\" %i)\n",
        "    # this help you compute the training accuracy\n",
        "    total_examples = 0\n",
        "    correct_examples = 0\n",
        "\n",
        "    train_loss = 0 # track training loss if you want\n",
        "    \n",
        "    # Train the model for 1 epoch.\n",
        "    for batch_idx, (inputs, targets) in enumerate(train_loader):\n",
        "        ####################################\n",
        "        # your code here\n",
        "        # copy inputs to device\n",
        "        inputs = inputs.type(torch.cuda.FloatTensor)\n",
        "        output = model(inputs)\n",
        "        output = output.to(device)\n",
        "        \n",
        "        # compute the output and loss\n",
        "        loss = criterion(output, targets.to(device))\n",
        "        if a == 0:\n",
        "          print(\"initial loss: \", loss)\n",
        "        a += 1\n",
        "        train_loss += loss\n",
        "        # zero the gradient\n",
        "        optimizer.zero_grad()\n",
        "        \n",
        "        # backpropagation\n",
        "        loss.backward()\n",
        "        \n",
        "        # apply gradient and update the weights\n",
        "        optimizer.step()\n",
        "\n",
        "        # count the number of correctly predicted samples in the current batch\n",
        "\n",
        "        for i in range(len(output)):\n",
        "          if torch.max(output,dim=1)[1][i] == targets[i]:\n",
        "            correct_examples +=1\n",
        "          total_examples += 1\n",
        "        ####################################\n",
        "    print(\"total: \", total_examples)   \n",
        "    print(\"correct: \", correct_examples)       \n",
        "    avg_loss = train_loss / len(train_loader)\n",
        "    avg_acc = correct_examples / total_examples\n",
        "    print(\"Training loss: %.4f, Training accuracy: %.4f\" %(avg_loss, avg_acc))\n",
        "\n",
        "    # Validate on the validation dataset\n",
        "    #######################y\n",
        "    # your code here\n",
        "    # switch to eval mode\n",
        "    model.eval()\n",
        "    \n",
        "    #######################\n",
        "\n",
        "    # this help you compute the validation accuracy\n",
        "    total_examples = 0\n",
        "    correct_examples = 0\n",
        "    \n",
        "    val_loss = 0 # again, track the validation loss if you want\n",
        "\n",
        "    # disable gradient during validation, which can save GPU memory\n",
        "    with torch.no_grad():\n",
        "        for batch_idx, (inputs, targets) in enumerate(val_loader):\n",
        "            ####################################\n",
        "            # your code here\n",
        "            # copy inputs to device\n",
        "            inputs = inputs.type(torch.cuda.FloatTensor)\n",
        "            output = model(inputs)\n",
        "            output = output.to(device)\n",
        "            \n",
        "            # compute the output and loss\n",
        "            loss = criterion(output, targets.to(device))\n",
        "            val_loss += loss\n",
        "            # count the number of correctly predicted samples in the current batch\n",
        "            for i in range(len(output)):\n",
        "              if torch.max(output,dim=1)[1][i] == targets[i]:\n",
        "                correct_examples +=1\n",
        "              total_examples += 1\n",
        "            \n",
        "            ####################################\n",
        "\n",
        "    avg_loss = val_loss / len(val_loader)\n",
        "    avg_acc = correct_examples / total_examples\n",
        "    print(\"Validation loss: %.4f, Validation accuracy: %.4f\" % (avg_loss, avg_acc))\n",
        "    \n",
        "    # save the model checkpoint\n",
        "    if avg_acc > best_val_acc:\n",
        "        best_val_acc = avg_acc\n",
        "        if not os.path.exists(CHECKPOINT_FOLDER):\n",
        "           os.makedirs(CHECKPOINT_FOLDER)\n",
        "        print(\"Saving ...\")\n",
        "        state = {'state_dict': model.state_dict(),\n",
        "                'epoch': i,\n",
        "                'lr': current_learning_rate}\n",
        "        torch.save(state, os.path.join(CHECKPOINT_FOLDER, 'simplenn.pth'))\n",
        "        \n",
        "    print('')\n",
        "\n",
        "print(\"=\"*50)\n",
        "print(f\"==> Optimization finished! Best validation accuracy: {best_val_acc:.4f}\")"
      ]
    },
    {
      "cell_type": "markdown",
      "metadata": {
        "id": "oFG2osfpRMV9"
      },
      "source": [
        "# Bonus: with learning rate decay\n",
        "\n",
        "The following code can help you adjust the learning rate during training. You need to figure out how to incorporate this code into your training loop.\n",
        "```python\n",
        "    if i % DECAY_EPOCHS == 0 and i != 0:\n",
        "        current_learning_rate = current_learning_rate * DECAY\n",
        "        for param_group in optimizer.param_groups:\n",
        "            param_group['lr'] = current_learning_rate\n",
        "        print(\"Current learning rate has decayed to %f\" %current_learning_rate)\n",
        "```"
      ]
    },
    {
      "cell_type": "code",
      "execution_count": null,
      "metadata": {
        "id": "rBMxwf09RMV9"
      },
      "outputs": [],
      "source": []
    }
  ],
  "metadata": {
    "kernelspec": {
      "display_name": "Python 3 (ipykernel)",
      "language": "python",
      "name": "python3"
    },
    "language_info": {
      "codemirror_mode": {
        "name": "ipython",
        "version": 3
      },
      "file_extension": ".py",
      "mimetype": "text/x-python",
      "name": "python",
      "nbconvert_exporter": "python",
      "pygments_lexer": "ipython3",
      "version": "3.7.11"
    },
    "colab": {
      "provenance": [],
      "collapsed_sections": []
    },
    "accelerator": "GPU",
    "widgets": {
      "application/vnd.jupyter.widget-state+json": {
        "eb22d7abf3984ced8457e0ddd0240cf6": {
          "model_module": "@jupyter-widgets/controls",
          "model_name": "HBoxModel",
          "model_module_version": "1.5.0",
          "state": {
            "_dom_classes": [],
            "_model_module": "@jupyter-widgets/controls",
            "_model_module_version": "1.5.0",
            "_model_name": "HBoxModel",
            "_view_count": null,
            "_view_module": "@jupyter-widgets/controls",
            "_view_module_version": "1.5.0",
            "_view_name": "HBoxView",
            "box_style": "",
            "children": [
              "IPY_MODEL_d7c94d6708b2471987c5b2490f286b5b",
              "IPY_MODEL_c35c39e78ed241fbae007bcfb0be94ca",
              "IPY_MODEL_1c67bd43b3f344d18fcde5e29977b08e"
            ],
            "layout": "IPY_MODEL_379cfd13b4ba46edbbc133a05874cf7a"
          }
        },
        "d7c94d6708b2471987c5b2490f286b5b": {
          "model_module": "@jupyter-widgets/controls",
          "model_name": "HTMLModel",
          "model_module_version": "1.5.0",
          "state": {
            "_dom_classes": [],
            "_model_module": "@jupyter-widgets/controls",
            "_model_module_version": "1.5.0",
            "_model_name": "HTMLModel",
            "_view_count": null,
            "_view_module": "@jupyter-widgets/controls",
            "_view_module_version": "1.5.0",
            "_view_name": "HTMLView",
            "description": "",
            "description_tooltip": null,
            "layout": "IPY_MODEL_4e3a9e45e24a4194bc9f8e2e17ff7902",
            "placeholder": "​",
            "style": "IPY_MODEL_26993aaffe58455480d3db4161833f90",
            "value": ""
          }
        },
        "c35c39e78ed241fbae007bcfb0be94ca": {
          "model_module": "@jupyter-widgets/controls",
          "model_name": "FloatProgressModel",
          "model_module_version": "1.5.0",
          "state": {
            "_dom_classes": [],
            "_model_module": "@jupyter-widgets/controls",
            "_model_module_version": "1.5.0",
            "_model_name": "FloatProgressModel",
            "_view_count": null,
            "_view_module": "@jupyter-widgets/controls",
            "_view_module_version": "1.5.0",
            "_view_name": "ProgressView",
            "bar_style": "info",
            "description": "",
            "description_tooltip": null,
            "layout": "IPY_MODEL_3b844589c0ac4ee9888541861b160d49",
            "max": 1,
            "min": 0,
            "orientation": "horizontal",
            "style": "IPY_MODEL_193f4d0f56f445519a54486ee4a0af6c",
            "value": 1
          }
        },
        "1c67bd43b3f344d18fcde5e29977b08e": {
          "model_module": "@jupyter-widgets/controls",
          "model_name": "HTMLModel",
          "model_module_version": "1.5.0",
          "state": {
            "_dom_classes": [],
            "_model_module": "@jupyter-widgets/controls",
            "_model_module_version": "1.5.0",
            "_model_name": "HTMLModel",
            "_view_count": null,
            "_view_module": "@jupyter-widgets/controls",
            "_view_module_version": "1.5.0",
            "_view_name": "HTMLView",
            "description": "",
            "description_tooltip": null,
            "layout": "IPY_MODEL_0de900518f434635a0dbb6c888b18140",
            "placeholder": "​",
            "style": "IPY_MODEL_2fd832956f1b4580b99043c7e1b70df2",
            "value": " 141746176/? [00:16&lt;00:00, 64059641.48it/s]"
          }
        },
        "379cfd13b4ba46edbbc133a05874cf7a": {
          "model_module": "@jupyter-widgets/base",
          "model_name": "LayoutModel",
          "model_module_version": "1.2.0",
          "state": {
            "_model_module": "@jupyter-widgets/base",
            "_model_module_version": "1.2.0",
            "_model_name": "LayoutModel",
            "_view_count": null,
            "_view_module": "@jupyter-widgets/base",
            "_view_module_version": "1.2.0",
            "_view_name": "LayoutView",
            "align_content": null,
            "align_items": null,
            "align_self": null,
            "border": null,
            "bottom": null,
            "display": null,
            "flex": null,
            "flex_flow": null,
            "grid_area": null,
            "grid_auto_columns": null,
            "grid_auto_flow": null,
            "grid_auto_rows": null,
            "grid_column": null,
            "grid_gap": null,
            "grid_row": null,
            "grid_template_areas": null,
            "grid_template_columns": null,
            "grid_template_rows": null,
            "height": null,
            "justify_content": null,
            "justify_items": null,
            "left": null,
            "margin": null,
            "max_height": null,
            "max_width": null,
            "min_height": null,
            "min_width": null,
            "object_fit": null,
            "object_position": null,
            "order": null,
            "overflow": null,
            "overflow_x": null,
            "overflow_y": null,
            "padding": null,
            "right": null,
            "top": null,
            "visibility": null,
            "width": null
          }
        },
        "4e3a9e45e24a4194bc9f8e2e17ff7902": {
          "model_module": "@jupyter-widgets/base",
          "model_name": "LayoutModel",
          "model_module_version": "1.2.0",
          "state": {
            "_model_module": "@jupyter-widgets/base",
            "_model_module_version": "1.2.0",
            "_model_name": "LayoutModel",
            "_view_count": null,
            "_view_module": "@jupyter-widgets/base",
            "_view_module_version": "1.2.0",
            "_view_name": "LayoutView",
            "align_content": null,
            "align_items": null,
            "align_self": null,
            "border": null,
            "bottom": null,
            "display": null,
            "flex": null,
            "flex_flow": null,
            "grid_area": null,
            "grid_auto_columns": null,
            "grid_auto_flow": null,
            "grid_auto_rows": null,
            "grid_column": null,
            "grid_gap": null,
            "grid_row": null,
            "grid_template_areas": null,
            "grid_template_columns": null,
            "grid_template_rows": null,
            "height": null,
            "justify_content": null,
            "justify_items": null,
            "left": null,
            "margin": null,
            "max_height": null,
            "max_width": null,
            "min_height": null,
            "min_width": null,
            "object_fit": null,
            "object_position": null,
            "order": null,
            "overflow": null,
            "overflow_x": null,
            "overflow_y": null,
            "padding": null,
            "right": null,
            "top": null,
            "visibility": null,
            "width": null
          }
        },
        "26993aaffe58455480d3db4161833f90": {
          "model_module": "@jupyter-widgets/controls",
          "model_name": "DescriptionStyleModel",
          "model_module_version": "1.5.0",
          "state": {
            "_model_module": "@jupyter-widgets/controls",
            "_model_module_version": "1.5.0",
            "_model_name": "DescriptionStyleModel",
            "_view_count": null,
            "_view_module": "@jupyter-widgets/base",
            "_view_module_version": "1.2.0",
            "_view_name": "StyleView",
            "description_width": ""
          }
        },
        "3b844589c0ac4ee9888541861b160d49": {
          "model_module": "@jupyter-widgets/base",
          "model_name": "LayoutModel",
          "model_module_version": "1.2.0",
          "state": {
            "_model_module": "@jupyter-widgets/base",
            "_model_module_version": "1.2.0",
            "_model_name": "LayoutModel",
            "_view_count": null,
            "_view_module": "@jupyter-widgets/base",
            "_view_module_version": "1.2.0",
            "_view_name": "LayoutView",
            "align_content": null,
            "align_items": null,
            "align_self": null,
            "border": null,
            "bottom": null,
            "display": null,
            "flex": null,
            "flex_flow": null,
            "grid_area": null,
            "grid_auto_columns": null,
            "grid_auto_flow": null,
            "grid_auto_rows": null,
            "grid_column": null,
            "grid_gap": null,
            "grid_row": null,
            "grid_template_areas": null,
            "grid_template_columns": null,
            "grid_template_rows": null,
            "height": null,
            "justify_content": null,
            "justify_items": null,
            "left": null,
            "margin": null,
            "max_height": null,
            "max_width": null,
            "min_height": null,
            "min_width": null,
            "object_fit": null,
            "object_position": null,
            "order": null,
            "overflow": null,
            "overflow_x": null,
            "overflow_y": null,
            "padding": null,
            "right": null,
            "top": null,
            "visibility": null,
            "width": "20px"
          }
        },
        "193f4d0f56f445519a54486ee4a0af6c": {
          "model_module": "@jupyter-widgets/controls",
          "model_name": "ProgressStyleModel",
          "model_module_version": "1.5.0",
          "state": {
            "_model_module": "@jupyter-widgets/controls",
            "_model_module_version": "1.5.0",
            "_model_name": "ProgressStyleModel",
            "_view_count": null,
            "_view_module": "@jupyter-widgets/base",
            "_view_module_version": "1.2.0",
            "_view_name": "StyleView",
            "bar_color": null,
            "description_width": ""
          }
        },
        "0de900518f434635a0dbb6c888b18140": {
          "model_module": "@jupyter-widgets/base",
          "model_name": "LayoutModel",
          "model_module_version": "1.2.0",
          "state": {
            "_model_module": "@jupyter-widgets/base",
            "_model_module_version": "1.2.0",
            "_model_name": "LayoutModel",
            "_view_count": null,
            "_view_module": "@jupyter-widgets/base",
            "_view_module_version": "1.2.0",
            "_view_name": "LayoutView",
            "align_content": null,
            "align_items": null,
            "align_self": null,
            "border": null,
            "bottom": null,
            "display": null,
            "flex": null,
            "flex_flow": null,
            "grid_area": null,
            "grid_auto_columns": null,
            "grid_auto_flow": null,
            "grid_auto_rows": null,
            "grid_column": null,
            "grid_gap": null,
            "grid_row": null,
            "grid_template_areas": null,
            "grid_template_columns": null,
            "grid_template_rows": null,
            "height": null,
            "justify_content": null,
            "justify_items": null,
            "left": null,
            "margin": null,
            "max_height": null,
            "max_width": null,
            "min_height": null,
            "min_width": null,
            "object_fit": null,
            "object_position": null,
            "order": null,
            "overflow": null,
            "overflow_x": null,
            "overflow_y": null,
            "padding": null,
            "right": null,
            "top": null,
            "visibility": null,
            "width": null
          }
        },
        "2fd832956f1b4580b99043c7e1b70df2": {
          "model_module": "@jupyter-widgets/controls",
          "model_name": "DescriptionStyleModel",
          "model_module_version": "1.5.0",
          "state": {
            "_model_module": "@jupyter-widgets/controls",
            "_model_module_version": "1.5.0",
            "_model_name": "DescriptionStyleModel",
            "_view_count": null,
            "_view_module": "@jupyter-widgets/base",
            "_view_module_version": "1.2.0",
            "_view_name": "StyleView",
            "description_width": ""
          }
        }
      }
    }
  },
  "nbformat": 4,
  "nbformat_minor": 0
}