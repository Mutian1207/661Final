{
 "cells": [
  {
   "cell_type": "code",
   "execution_count": 20,
   "id": "e8f54877",
   "metadata": {},
   "outputs": [],
   "source": [
    "from os.path import dirname, join as pjoin\n",
    "import scipy.io as sio\n",
    "import numpy as np\n",
    "from numpy.linalg import inv\n",
    "import matplotlib.pyplot as plt\n",
    "from mpl_toolkits import mplot3d"
   ]
  },
  {
   "cell_type": "code",
   "execution_count": 2,
   "id": "a665af62",
   "metadata": {},
   "outputs": [
    {
     "name": "stdout",
     "output_type": "stream",
     "text": [
      "/Users/hungweicheng/opt/anaconda3/envs/ck3/lib/python3.7/site-packages/scipy/io/matlab/tests/data\n"
     ]
    }
   ],
   "source": [
    "data_dir = pjoin(dirname(sio.__file__), 'matlab', 'tests', 'data')\n",
    "print(data_dir)\n",
    "mat_fname = pjoin(data_dir, 'dataset.mat')"
   ]
  },
  {
   "cell_type": "code",
   "execution_count": 3,
   "id": "1d148d68",
   "metadata": {},
   "outputs": [
    {
     "data": {
      "text/plain": [
       "['D', 'X', '__globals__', '__header__', '__version__']"
      ]
     },
     "execution_count": 3,
     "metadata": {},
     "output_type": "execute_result"
    }
   ],
   "source": [
    "mat_contents = sio.loadmat('dataset.mat')\n",
    "sorted(mat_contents.keys())"
   ]
  },
  {
   "cell_type": "code",
   "execution_count": 95,
   "id": "a1ac55a0",
   "metadata": {},
   "outputs": [
    {
     "name": "stdout",
     "output_type": "stream",
     "text": [
      "(100, 1)\n"
     ]
    }
   ],
   "source": [
    "D = mat_contents['D']\n",
    "print(D.shape)\n",
    "d1 = np.array([D[i] for i in range(len(D))])\n",
    "# print(len(D))"
   ]
  },
  {
   "cell_type": "code",
   "execution_count": 92,
   "id": "d448d44f",
   "metadata": {},
   "outputs": [
    {
     "name": "stdout",
     "output_type": "stream",
     "text": [
      "[[ 1.00000000e+00 -9.47246644e-01 -5.65462712e-01]\n",
      " [ 1.00000000e+00  5.40149747e-01  2.08619702e-01]\n",
      " [ 1.00000000e+00 -2.16602141e-01 -2.05030149e+00]\n",
      " [ 1.00000000e+00  1.18903197e+00  2.04857822e+00]\n",
      " [ 1.00000000e+00  1.31698783e+00 -3.17208298e-01]\n",
      " [ 1.00000000e+00 -4.05628870e-01 -1.16091464e+00]\n",
      " [ 1.00000000e+00 -4.44906311e-01 -1.10291231e-01]\n",
      " [ 1.00000000e+00  1.32838582e+00  2.27516290e+00]\n",
      " [ 1.00000000e+00  8.33802589e-01  1.32412519e+00]\n",
      " [ 1.00000000e+00  6.04446392e-01 -9.49736504e-01]\n",
      " [ 1.00000000e+00 -1.06671546e-01 -4.68779829e-01]\n",
      " [ 1.00000000e+00  3.01532940e-03 -1.23480383e+00]\n",
      " [ 1.00000000e+00  4.57111658e-01  6.86419672e-01]\n",
      " [ 1.00000000e+00  9.21720899e-01  9.28292474e-01]\n",
      " [ 1.00000000e+00 -1.97341696e-01  9.14083515e-01]\n",
      " [ 1.00000000e+00  7.55034885e-02  1.17464065e+00]\n",
      " [ 1.00000000e+00  8.88692003e-03  3.91198845e-01]\n",
      " [ 1.00000000e+00  8.38831099e-01  2.61893749e-01]\n",
      " [ 1.00000000e+00 -5.42412762e-01 -1.13040247e+00]\n",
      " [ 1.00000000e+00  5.67566470e-01 -9.76856537e-01]\n",
      " [ 1.00000000e+00 -2.81967642e+00 -3.51390703e-01]\n",
      " [ 1.00000000e+00 -2.13634975e-01  5.25224146e-01]\n",
      " [ 1.00000000e+00  1.17315592e+00 -1.42233116e+00]\n",
      " [ 1.00000000e+00  4.40383865e-01 -1.24100720e+00]\n",
      " [ 1.00000000e+00 -3.29729751e-01 -6.25512865e-01]\n",
      " [ 1.00000000e+00  1.23258158e+00  1.88716876e-01]\n",
      " [ 1.00000000e+00 -5.42675757e-01  1.24673960e+00]\n",
      " [ 1.00000000e+00  1.94466346e-01 -6.39478658e-01]\n",
      " [ 1.00000000e+00  1.22531159e+00 -2.01621154e+00]\n",
      " [ 1.00000000e+00 -3.86513069e-01 -1.52496022e+00]\n",
      " [ 1.00000000e+00  3.31849789e-01  4.58677003e-01]\n",
      " [ 1.00000000e+00 -1.15748750e+00 -2.97145674e-01]\n",
      " [ 1.00000000e+00  6.02440582e-01  1.29078774e-01]\n",
      " [ 1.00000000e+00  5.43109595e-01 -1.38801488e+00]\n",
      " [ 1.00000000e+00 -6.96775727e-01  1.46660626e+00]\n",
      " [ 1.00000000e+00  1.86962619e+00  1.57744914e+00]\n",
      " [ 1.00000000e+00 -2.09100363e-01  1.88860833e-01]\n",
      " [ 1.00000000e+00  4.78585951e-01 -1.51347819e+00]\n",
      " [ 1.00000000e+00 -3.21704883e+00 -4.38831007e-01]\n",
      " [ 1.00000000e+00 -1.19627320e+00  1.28965229e+00]\n",
      " [ 1.00000000e+00 -2.40470499e+00 -7.11665884e-01]\n",
      " [ 1.00000000e+00  9.13196955e-01  2.42499696e-01]\n",
      " [ 1.00000000e+00  5.83555949e-01 -1.31368056e+00]\n",
      " [ 1.00000000e+00  9.06668993e-02  1.26604618e+00]\n",
      " [ 1.00000000e+00 -1.02808756e+00  4.18053670e-01]\n",
      " [ 1.00000000e+00  1.74610557e-01 -5.46504475e-01]\n",
      " [ 1.00000000e+00 -7.03049479e-01 -1.44615928e+00]\n",
      " [ 1.00000000e+00  1.01890478e-02  5.31407152e-01]\n",
      " [ 1.00000000e+00 -5.43861683e-01  7.49904827e-01]\n",
      " [ 1.00000000e+00  4.13341558e-01  1.96266422e-01]\n",
      " [ 1.00000000e+00  1.21192827e-01  1.04389544e+00]\n",
      " [ 1.00000000e+00  1.23211020e+00  4.33880452e-01]\n",
      " [ 1.00000000e+00  3.83969811e-01  2.02558660e-01]\n",
      " [ 1.00000000e+00  1.31296996e+00 -1.08244980e+00]\n",
      " [ 1.00000000e+00  7.47210676e-01  1.55097820e+00]\n",
      " [ 1.00000000e+00  1.45607363e+00  1.41934205e+00]\n",
      " [ 1.00000000e+00 -8.86384210e-01  1.07188716e+00]\n",
      " [ 1.00000000e+00  3.31621022e-01  1.59636125e-01]\n",
      " [ 1.00000000e+00 -2.03129310e-02 -3.27316828e-02]\n",
      " [ 1.00000000e+00 -1.55158280e+00  1.08919382e+00]\n",
      " [ 1.00000000e+00 -4.99920966e-01 -3.48303600e-01]\n",
      " [ 1.00000000e+00 -1.56498909e+00 -6.20575099e-01]\n",
      " [ 1.00000000e+00 -9.93317572e-02  1.04079835e+00]\n",
      " [ 1.00000000e+00  1.13366321e+00 -2.13343458e-01]\n",
      " [ 1.00000000e+00 -1.38249989e+00  6.52078088e-01]\n",
      " [ 1.00000000e+00 -1.85949584e+00 -2.80276736e-01]\n",
      " [ 1.00000000e+00  8.84449709e-01  9.59084130e-01]\n",
      " [ 1.00000000e+00  2.17523545e-01  1.18945394e+00]\n",
      " [ 1.00000000e+00 -5.78280187e-02  6.34768286e-01]\n",
      " [ 1.00000000e+00 -2.63804534e-01  3.80343466e-01]\n",
      " [ 1.00000000e+00 -3.65284054e-01 -8.17080599e-03]\n",
      " [ 1.00000000e+00  1.58398928e+00  9.40589109e-01]\n",
      " [ 1.00000000e+00 -5.24101330e-01  8.17851201e-01]\n",
      " [ 1.00000000e+00  1.35846131e-01 -2.95388381e-01]\n",
      " [ 1.00000000e+00 -3.52252375e-01 -1.52378082e+00]\n",
      " [ 1.00000000e+00  3.78669553e-01 -3.42628221e-01]\n",
      " [ 1.00000000e+00  1.33561910e+00  8.30269710e-01]\n",
      " [ 1.00000000e+00  2.35487012e-01 -1.37945149e-01]\n",
      " [ 1.00000000e+00  3.74910616e-01 -3.19624153e-01]\n",
      " [ 1.00000000e+00 -1.91378858e+00  7.12876199e-01]\n",
      " [ 1.00000000e+00  9.61502487e-01 -1.18865203e+00]\n",
      " [ 1.00000000e+00  9.89600704e-01 -1.34341008e+00]\n",
      " [ 1.00000000e+00  6.53310622e-01  7.47409824e-01]\n",
      " [ 1.00000000e+00 -1.69566854e-01 -1.27547716e+00]\n",
      " [ 1.00000000e+00 -6.50682091e-01 -3.42530051e-01]\n",
      " [ 1.00000000e+00  1.15536316e-01  1.48824593e-01]\n",
      " [ 1.00000000e+00  7.83349993e-02 -1.26211190e+00]\n",
      " [ 1.00000000e+00  4.18595751e-01  1.24221839e+00]\n",
      " [ 1.00000000e+00 -6.49197557e-02  3.63918205e-01]\n",
      " [ 1.00000000e+00  1.08202327e-02  5.07694658e-01]\n",
      " [ 1.00000000e+00  8.35593014e-02  2.10512177e+00]\n",
      " [ 1.00000000e+00  6.55757214e-01  3.50957681e-01]\n",
      " [ 1.00000000e+00 -8.44671187e-01  1.24659397e+00]\n",
      " [ 1.00000000e+00  4.79280990e-01  9.50271265e-01]\n",
      " [ 1.00000000e+00  1.61757162e+00  7.22330522e-01]\n",
      " [ 1.00000000e+00  2.36143619e-01 -2.21293608e+00]\n",
      " [ 1.00000000e+00  1.53752025e+00 -1.57391350e-01]\n",
      " [ 1.00000000e+00  1.05123320e-01 -6.16507713e-01]\n",
      " [ 1.00000000e+00  2.57229714e+00 -7.45698475e-01]\n",
      " [ 1.00000000e+00 -1.45637228e+00 -6.60833563e-01]]\n"
     ]
    }
   ],
   "source": [
    "X = mat_contents['X']\n",
    "x1 = np.array([X[i][1] for i in range(len(X))])\n",
    "x2 = np.array([X[i][2] for i in range(len(X))])\n",
    "print(X)\n",
    "# print(x2)"
   ]
  },
  {
   "cell_type": "markdown",
   "id": "c192809e",
   "metadata": {},
   "source": [
    "### Xt = np.transpose(X)\n"
   ]
  },
  {
   "cell_type": "code",
   "execution_count": 7,
   "id": "f8a66a73",
   "metadata": {},
   "outputs": [
    {
     "name": "stdout",
     "output_type": "stream",
     "text": [
      "[[ 1.0006781 ]\n",
      " [ 1.00061145]\n",
      " [-2.00031968]]\n"
     ]
    }
   ],
   "source": [
    "#5.1\n",
    "# W = (Xt*X)^(-1)*Xt*D\n",
    "w1 = np.dot(Xt, X)\n",
    "w2 = np.dot(Xt, D)\n",
    "W = np.dot(inv(w1), w2)\n",
    "\n",
    "print(W)"
   ]
  },
  {
   "cell_type": "code",
   "execution_count": 55,
   "id": "3ba72b12",
   "metadata": {},
   "outputs": [],
   "source": [
    "Wt = np.transpose(W)\n",
    "\n",
    "sk = np.dot(Wt, Xt)\n"
   ]
  },
  {
   "cell_type": "code",
   "execution_count": 54,
   "id": "c939b2df",
   "metadata": {},
   "outputs": [
    {
     "name": "stdout",
     "output_type": "stream",
     "text": [
      "[5.03995157e-05]\n"
     ]
    }
   ],
   "source": [
    "res = 0\n",
    "for i in range(len(D)):\n",
    "    res += 1/2*(D[i] - sk[0][i])**2\n",
    "MSE = res/100\n",
    "print(MSE)"
   ]
  },
  {
   "cell_type": "code",
   "execution_count": null,
   "id": "69f448f7",
   "metadata": {},
   "outputs": [],
   "source": []
  },
  {
   "cell_type": "code",
   "execution_count": 126,
   "id": "5b0765fa",
   "metadata": {},
   "outputs": [
    {
     "name": "stdout",
     "output_type": "stream",
     "text": [
      "[ 0  1  2  3  4  5  6  7  8  9 10 11 12 13 14 15 16 17 18 19]\n",
      "1 epoch,  MSE: 2.812639199865521\n",
      "2 epoch,  MSE: 0.012910585982472512\n",
      "3 epoch,  MSE: 0.00015834190092198875\n",
      "4 epoch,  MSE: 5.165077987103672e-05\n",
      "5 epoch,  MSE: 5.041534974744646e-05\n",
      "6 epoch,  MSE: 5.0399719872042845e-05\n",
      "7 epoch,  MSE: 5.0399518304804874e-05\n",
      "8 epoch,  MSE: 5.039951569304508e-05\n",
      "9 epoch,  MSE: 5.03995156591307e-05\n",
      "10 epoch,  MSE: 5.039951565868916e-05\n",
      "11 epoch,  MSE: 5.0399515658683576e-05\n",
      "12 epoch,  MSE: 5.039951565868373e-05\n",
      "13 epoch,  MSE: 5.039951565868364e-05\n",
      "14 epoch,  MSE: 5.0399515658683454e-05\n",
      "15 epoch,  MSE: 5.0399515658683705e-05\n",
      "16 epoch,  MSE: 5.039951565868355e-05\n",
      "17 epoch,  MSE: 5.0399515658683576e-05\n",
      "18 epoch,  MSE: 5.039951565868371e-05\n",
      "19 epoch,  MSE: 5.039951565868371e-05\n",
      "20 epoch,  MSE: 5.039951565868371e-05\n"
     ]
    },
    {
     "data": {
      "text/plain": [
       "[<matplotlib.lines.Line2D at 0x7fb3919e6a10>]"
      ]
     },
     "execution_count": 126,
     "metadata": {},
     "output_type": "execute_result"
    },
    {
     "data": {
      "image/png": "[encoded data removed]",
      "text/plain": [
       "<Figure size 432x288 with 1 Axes>"
      ]
     },
     "metadata": {
      "needs_background": "light"
     },
     "output_type": "display_data"
    }
   ],
   "source": [
    "#5.2\n",
    "w0 = np.array([[0], [0], [0]])\n",
    "\n",
    "lr = 0.01\n",
    "mse = []\n",
    "epoch = np.arange(0, 20, 1)\n",
    "print(epoch)\n",
    "for i in range(20):\n",
    "    sk = np.dot(X, w0)\n",
    "#     print(sk.shape)\n",
    "    w0 = w0 + lr * np.dot(Xt, (D - sk))\n",
    "    \n",
    "    res = (1/2*(D - sk)*(D - sk)).sum()\n",
    "    MSE = res / 100\n",
    "    mse.append(MSE)\n",
    "    out = \"{}{}{}\".format(i+1, \" epoch,  MSE: \", MSE)\n",
    "    print(out)\n",
    "plt.yscale(\"log\")\n",
    "plt.ylabel(\"MSE\")\n",
    "plt.xlabel(\"epoch\")\n",
    "plt.plot(epoch, mse)\n",
    " "
   ]
  },
  {
   "cell_type": "code",
   "execution_count": 116,
   "id": "9f13e0db",
   "metadata": {},
   "outputs": [
    {
     "name": "stdout",
     "output_type": "stream",
     "text": [
      "(100, 1)\n"
     ]
    },
    {
     "data": {
      "image/png": "[encoded data removed]",
      "text/plain": [
       "<Figure size 432x288 with 1 Axes>"
      ]
     },
     "metadata": {
      "needs_background": "light"
     },
     "output_type": "display_data"
    }
   ],
   "source": [
    "# 5.3(a)\n",
    "ax = plt.axes(projection='3d')\n",
    "model_a = np.dot(X, W)\n",
    "d = np.array([model_a[i] for i in range(len(model_a))])\n",
    "\n",
    "# Data for three-dimensional scattered points\n",
    "ax.scatter3D(x1, x2, D)#, cmap='viridis', edgecolor='none')\n",
    "print(model_a.shape)\n",
    "ax.plot_trisurf(x1, x2, d[:,0],\n",
    "                cmap='viridis', edgecolor='none');"
   ]
  },
  {
   "cell_type": "code",
   "execution_count": 127,
   "id": "1a23731f",
   "metadata": {},
   "outputs": [
    {
     "name": "stdout",
     "output_type": "stream",
     "text": [
      "(100, 1)\n"
     ]
    },
    {
     "data": {
      "image/png": "[encoded data removed]",
      "text/plain": [
       "<Figure size 432x288 with 1 Axes>"
      ]
     },
     "metadata": {
      "needs_background": "light"
     },
     "output_type": "display_data"
    }
   ],
   "source": [
    "# 5.3(b)\n",
    "ax2 = plt.axes(projection = '3d')\n",
    "model_b = np.dot(X, w0)\n",
    "dim = np.array([model_b[i] for i in range(len(model_b))])\n",
    "\n",
    "# Data for three-dimensional scattered points\n",
    "ax2.scatter3D(x1, x2, D)#, cmap='viridis', edgecolor='none')\n",
    "print(model_b.shape)\n",
    "ax2.plot_trisurf(x1, x2, dim[:,0],\n",
    "                cmap='viridis', edgecolor='none');"
   ]
  },
  {
   "cell_type": "code",
   "execution_count": null,
   "id": "dfc8642a",
   "metadata": {},
   "outputs": [],
   "source": []
  },
  {
   "cell_type": "code",
   "execution_count": null,
   "id": "1addd4ff",
   "metadata": {},
   "outputs": [],
   "source": []
  },
  {
   "cell_type": "code",
   "execution_count": null,
   "id": "c1b5328a",
   "metadata": {},
   "outputs": [],
   "source": []
  },
  {
   "cell_type": "code",
   "execution_count": null,
   "id": "75bbef4c",
   "metadata": {},
   "outputs": [],
   "source": []
  }
 ],
 "metadata": {
  "kernelspec": {
   "display_name": "Python 3 (ipykernel)",
   "language": "python",
   "name": "python3"
  },
  "language_info": {
   "codemirror_mode": {
    "name": "ipython",
    "version": 3
   },
   "file_extension": ".py",
   "mimetype": "text/x-python",
   "name": "python",
   "nbconvert_exporter": "python",
   "pygments_lexer": "ipython3",
   "version": "3.7.11"
  }
 },
 "nbformat": 4,
 "nbformat_minor": 5
}
